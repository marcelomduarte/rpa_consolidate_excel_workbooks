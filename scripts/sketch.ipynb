{
 "cells": [
  {
   "cell_type": "markdown",
   "metadata": {},
   "source": [
    "## Consolidar Pastas de Trabalho Excel"
   ]
  },
  {
   "cell_type": "markdown",
   "metadata": {},
   "source": [
    "### Dúvidas:\n",
    "\n",
    "- Total de colunas: 11\n",
    "    - só muda se houver a solicitação de inclusão de mais campos\n",
    "\n",
    "- Nome da aba é sempre \"dados\"?\n",
    "    - Sim!\n",
    "\n",
    "- Qual é a origem dos relatórios?\n",
    "    - Resp: eles são extraídos do sistema de venda.\n",
    "\n",
    "- Data é a data de realização da venda?\n",
    "    - Sim!\n",
    "    \n",
    "- Quem são os compradores?\n",
    "    - O nome do arquivo tem algo a ver com isso?\n",
    "        - Nome do arquivo é configurado da seguinte forma:\n",
    "\n",
    "        `nome do segmento - país onde foi realizada a venda`\n",
    "\n",
    "\n",
    "\n",
    "Passo a passo:\n",
    "\n",
    "- Criar uma planilha em branco\n",
    "- Replicar as colunas que existem nos relatórios (11 colunas)\n",
    "- Inserir duas colunas novas: Segmento e País\n",
    "- Percorrer todos os arquivos, copiar os dados, colar na planilha consolidado e preencher\n",
    "as informações de segmento e país\n",
    "\n",
    "\n"
   ]
  },
  {
   "cell_type": "code",
   "execution_count": 1,
   "metadata": {},
   "outputs": [
    {
     "name": "stdout",
     "output_type": "stream",
     "text": [
      "Python Version : 3.12.2\n",
      "Pandas Version : 2.2.1\n"
     ]
    }
   ],
   "source": [
    "# Importar as bibliotecas \n",
    "import pandas as pd # Biblioteca de estrutura de dados primária\n",
    "import os           # Permite acessar os arquivos e diretórios do sistema operacional\n",
    "import datetime     # Manipula datas e horas\n",
    "\n",
    "# Checar a versão \n",
    "from platform import python_version\n",
    "print(f'Python Version : {python_version()}')               # >= 3.12.2\n",
    "print (f'Pandas Version : {pd.__version__}')                # >= 2.2.1"
   ]
  },
  {
   "cell_type": "code",
   "execution_count": 2,
   "metadata": {},
   "outputs": [
    {
     "name": "stdout",
     "output_type": "stream",
     "text": [
      "Diretório atual: 'c:\\\\Users\\\\Spider\\\\OneDrive - HTPDATA\\\\Arquivos\\\\Profissional\\\\Portfolio\\\\Python\\\\rpa_consolidate_excel_workbooks\\\\scripts'\n"
     ]
    }
   ],
   "source": [
    "print(f'Diretório atual: {os.getcwd()!r}')"
   ]
  },
  {
   "cell_type": "code",
   "execution_count": 3,
   "metadata": {},
   "outputs": [],
   "source": [
    "cwd = 'C:\\\\Users\\\\Spider\\\\OneDrive - HTPDATA\\\\Arquivos\\\\Profissional\\\\Portfolio\\\\Python\\\\rpa_consolidate_excel_workbooks'\n",
    "if os.getcwd() != cwd:  # Obtém o diretório de trabalho atual\n",
    "    os.chdir(cwd)       # Altera o direitório de trabalho atual"
   ]
  },
  {
   "cell_type": "code",
   "execution_count": 4,
   "metadata": {},
   "outputs": [
    {
     "name": "stdout",
     "output_type": "stream",
     "text": [
      "Diretório do script: 'C:\\\\Users\\\\Spider\\\\OneDrive - HTPDATA\\\\Arquivos\\\\Profissional\\\\Portfolio\\\\Python\\\\rpa_consolidate_excel_workbooks'\n"
     ]
    }
   ],
   "source": [
    "print(f'Diretório do script: {cwd!r}')"
   ]
  },
  {
   "cell_type": "code",
   "execution_count": 5,
   "metadata": {},
   "outputs": [
    {
     "name": "stdout",
     "output_type": "stream",
     "text": [
      "['Governo-Alemanha.xlsx', 'Governo-Canadá.xlsx', 'Governo-Chile.xlsx', 'Governo-EUA.xlsx', 'Governo-França.xlsx', 'Grandes empresas-Alemanha.xlsx', 'Grandes empresas-Canadá.xlsx', 'Grandes empresas-Chile.xlsx', 'Grandes empresas-EUA.xlsx', 'Grandes empresas-França.xlsx', 'Médias empresas-Alemanha.xlsx', 'Médias empresas-Canadá.xlsx', 'Médias empresas-Chile.xlsx', 'Médias empresas-EUA.xlsx', 'Médias empresas-França.xlsx', 'Pequenas empresas-Alemanha.xlsx', 'Pequenas empresas-Canadá.xlsx', 'Pequenas empresas-Chile.xlsx', 'Pequenas empresas-EUA.xlsx', 'Pequenas empresas-França.xlsx', 'Vendas online-Alemanha.xlsx', 'Vendas online-Canadá.xlsx', 'Vendas online-Chile.xlsx', 'Vendas online-EUA.xlsx', 'Vendas online-França.xlsx']\n"
     ]
    }
   ],
   "source": [
    "# Listar os nomes de arquivos e diretórios \n",
    "filenames = os.listdir('workbooks\\\\input\\\\data')\n",
    "print(filenames)"
   ]
  },
  {
   "cell_type": "code",
   "execution_count": 6,
   "metadata": {},
   "outputs": [
    {
     "name": "stdout",
     "output_type": "stream",
     "text": [
      "C:\\Users\\Spider\\OneDrive - HTPDATA\\Arquivos\\Profissional\\Portfolio\\Python\\rpa_consolidate_excel_workbooks\\workbooks\\input\\data\\Governo-Alemanha.xlsx\n",
      "C:\\Users\\Spider\\OneDrive - HTPDATA\\Arquivos\\Profissional\\Portfolio\\Python\\rpa_consolidate_excel_workbooks\\workbooks\\input\\data\\Governo-Canadá.xlsx\n",
      "C:\\Users\\Spider\\OneDrive - HTPDATA\\Arquivos\\Profissional\\Portfolio\\Python\\rpa_consolidate_excel_workbooks\\workbooks\\input\\data\\Governo-Chile.xlsx\n",
      "C:\\Users\\Spider\\OneDrive - HTPDATA\\Arquivos\\Profissional\\Portfolio\\Python\\rpa_consolidate_excel_workbooks\\workbooks\\input\\data\\Governo-EUA.xlsx\n",
      "C:\\Users\\Spider\\OneDrive - HTPDATA\\Arquivos\\Profissional\\Portfolio\\Python\\rpa_consolidate_excel_workbooks\\workbooks\\input\\data\\Governo-França.xlsx\n",
      "C:\\Users\\Spider\\OneDrive - HTPDATA\\Arquivos\\Profissional\\Portfolio\\Python\\rpa_consolidate_excel_workbooks\\workbooks\\input\\data\\Grandes empresas-Alemanha.xlsx\n",
      "C:\\Users\\Spider\\OneDrive - HTPDATA\\Arquivos\\Profissional\\Portfolio\\Python\\rpa_consolidate_excel_workbooks\\workbooks\\input\\data\\Grandes empresas-Canadá.xlsx\n",
      "C:\\Users\\Spider\\OneDrive - HTPDATA\\Arquivos\\Profissional\\Portfolio\\Python\\rpa_consolidate_excel_workbooks\\workbooks\\input\\data\\Grandes empresas-Chile.xlsx\n",
      "C:\\Users\\Spider\\OneDrive - HTPDATA\\Arquivos\\Profissional\\Portfolio\\Python\\rpa_consolidate_excel_workbooks\\workbooks\\input\\data\\Grandes empresas-EUA.xlsx\n",
      "C:\\Users\\Spider\\OneDrive - HTPDATA\\Arquivos\\Profissional\\Portfolio\\Python\\rpa_consolidate_excel_workbooks\\workbooks\\input\\data\\Grandes empresas-França.xlsx\n",
      "C:\\Users\\Spider\\OneDrive - HTPDATA\\Arquivos\\Profissional\\Portfolio\\Python\\rpa_consolidate_excel_workbooks\\workbooks\\input\\data\\Médias empresas-Alemanha.xlsx\n",
      "C:\\Users\\Spider\\OneDrive - HTPDATA\\Arquivos\\Profissional\\Portfolio\\Python\\rpa_consolidate_excel_workbooks\\workbooks\\input\\data\\Médias empresas-Canadá.xlsx\n",
      "C:\\Users\\Spider\\OneDrive - HTPDATA\\Arquivos\\Profissional\\Portfolio\\Python\\rpa_consolidate_excel_workbooks\\workbooks\\input\\data\\Médias empresas-Chile.xlsx\n",
      "C:\\Users\\Spider\\OneDrive - HTPDATA\\Arquivos\\Profissional\\Portfolio\\Python\\rpa_consolidate_excel_workbooks\\workbooks\\input\\data\\Médias empresas-EUA.xlsx\n",
      "C:\\Users\\Spider\\OneDrive - HTPDATA\\Arquivos\\Profissional\\Portfolio\\Python\\rpa_consolidate_excel_workbooks\\workbooks\\input\\data\\Médias empresas-França.xlsx\n",
      "C:\\Users\\Spider\\OneDrive - HTPDATA\\Arquivos\\Profissional\\Portfolio\\Python\\rpa_consolidate_excel_workbooks\\workbooks\\input\\data\\Pequenas empresas-Alemanha.xlsx\n",
      "C:\\Users\\Spider\\OneDrive - HTPDATA\\Arquivos\\Profissional\\Portfolio\\Python\\rpa_consolidate_excel_workbooks\\workbooks\\input\\data\\Pequenas empresas-Canadá.xlsx\n",
      "C:\\Users\\Spider\\OneDrive - HTPDATA\\Arquivos\\Profissional\\Portfolio\\Python\\rpa_consolidate_excel_workbooks\\workbooks\\input\\data\\Pequenas empresas-Chile.xlsx\n",
      "C:\\Users\\Spider\\OneDrive - HTPDATA\\Arquivos\\Profissional\\Portfolio\\Python\\rpa_consolidate_excel_workbooks\\workbooks\\input\\data\\Pequenas empresas-EUA.xlsx\n",
      "C:\\Users\\Spider\\OneDrive - HTPDATA\\Arquivos\\Profissional\\Portfolio\\Python\\rpa_consolidate_excel_workbooks\\workbooks\\input\\data\\Pequenas empresas-França.xlsx\n",
      "C:\\Users\\Spider\\OneDrive - HTPDATA\\Arquivos\\Profissional\\Portfolio\\Python\\rpa_consolidate_excel_workbooks\\workbooks\\input\\data\\Vendas online-Alemanha.xlsx\n",
      "C:\\Users\\Spider\\OneDrive - HTPDATA\\Arquivos\\Profissional\\Portfolio\\Python\\rpa_consolidate_excel_workbooks\\workbooks\\input\\data\\Vendas online-Canadá.xlsx\n",
      "C:\\Users\\Spider\\OneDrive - HTPDATA\\Arquivos\\Profissional\\Portfolio\\Python\\rpa_consolidate_excel_workbooks\\workbooks\\input\\data\\Vendas online-Chile.xlsx\n",
      "C:\\Users\\Spider\\OneDrive - HTPDATA\\Arquivos\\Profissional\\Portfolio\\Python\\rpa_consolidate_excel_workbooks\\workbooks\\input\\data\\Vendas online-EUA.xlsx\n",
      "C:\\Users\\Spider\\OneDrive - HTPDATA\\Arquivos\\Profissional\\Portfolio\\Python\\rpa_consolidate_excel_workbooks\\workbooks\\input\\data\\Vendas online-França.xlsx\n"
     ]
    }
   ],
   "source": [
    " # Itera sobre todos os arquivos\n",
    "for filename in filenames:\n",
    "    filepath = os.path.join(cwd, 'workbooks', 'input', 'data', filename)\n",
    "    print(filepath)"
   ]
  },
  {
   "cell_type": "code",
   "execution_count": 7,
   "metadata": {},
   "outputs": [
    {
     "name": "stdout",
     "output_type": "stream",
     "text": [
      "['Governo', 'Alemanha.xlsx']\n",
      "['Governo', 'Canadá.xlsx']\n",
      "['Governo', 'Chile.xlsx']\n",
      "['Governo', 'EUA.xlsx']\n",
      "['Governo', 'França.xlsx']\n",
      "['Grandes empresas', 'Alemanha.xlsx']\n",
      "['Grandes empresas', 'Canadá.xlsx']\n",
      "['Grandes empresas', 'Chile.xlsx']\n",
      "['Grandes empresas', 'EUA.xlsx']\n",
      "['Grandes empresas', 'França.xlsx']\n",
      "['Médias empresas', 'Alemanha.xlsx']\n",
      "['Médias empresas', 'Canadá.xlsx']\n",
      "['Médias empresas', 'Chile.xlsx']\n",
      "['Médias empresas', 'EUA.xlsx']\n",
      "['Médias empresas', 'França.xlsx']\n",
      "['Pequenas empresas', 'Alemanha.xlsx']\n",
      "['Pequenas empresas', 'Canadá.xlsx']\n",
      "['Pequenas empresas', 'Chile.xlsx']\n",
      "['Pequenas empresas', 'EUA.xlsx']\n",
      "['Pequenas empresas', 'França.xlsx']\n",
      "['Vendas online', 'Alemanha.xlsx']\n",
      "['Vendas online', 'Canadá.xlsx']\n",
      "['Vendas online', 'Chile.xlsx']\n",
      "['Vendas online', 'EUA.xlsx']\n",
      "['Vendas online', 'França.xlsx']\n"
     ]
    }
   ],
   "source": [
    "# Itera sobre todos os arquivos\n",
    "for filename in filenames:\n",
    "    if filename.endswith('.xlsx'):\n",
    "        data_filename = filename.split('-')\n",
    "        print(data_filename)\n"
   ]
  },
  {
   "cell_type": "code",
   "execution_count": 8,
   "metadata": {},
   "outputs": [
    {
     "name": "stdout",
     "output_type": "stream",
     "text": [
      "Governo\n",
      "Governo\n",
      "Governo\n",
      "Governo\n",
      "Governo\n",
      "Grandes empresas\n",
      "Grandes empresas\n",
      "Grandes empresas\n",
      "Grandes empresas\n",
      "Grandes empresas\n",
      "Médias empresas\n",
      "Médias empresas\n",
      "Médias empresas\n",
      "Médias empresas\n",
      "Médias empresas\n",
      "Pequenas empresas\n",
      "Pequenas empresas\n",
      "Pequenas empresas\n",
      "Pequenas empresas\n",
      "Pequenas empresas\n",
      "Vendas online\n",
      "Vendas online\n",
      "Vendas online\n",
      "Vendas online\n",
      "Vendas online\n"
     ]
    }
   ],
   "source": [
    " # Itera sobre todos os arquivos\n",
    "for filename in filenames:\n",
    "    if filename.endswith('.xlsx'):\n",
    "        data_filename = filename.split('-')\n",
    "        segment = data_filename[0]\n",
    "        print(segment)"
   ]
  },
  {
   "cell_type": "code",
   "execution_count": 9,
   "metadata": {},
   "outputs": [
    {
     "name": "stdout",
     "output_type": "stream",
     "text": [
      "Alemanha\n",
      "Canadá\n",
      "Chile\n",
      "EUA\n",
      "França\n",
      "Alemanha\n",
      "Canadá\n",
      "Chile\n",
      "EUA\n",
      "França\n",
      "Alemanha\n",
      "Canadá\n",
      "Chile\n",
      "EUA\n",
      "França\n",
      "Alemanha\n",
      "Canadá\n",
      "Chile\n",
      "EUA\n",
      "França\n",
      "Alemanha\n",
      "Canadá\n",
      "Chile\n",
      "EUA\n",
      "França\n"
     ]
    }
   ],
   "source": [
    " # Itera sobre todos os arquivos\n",
    "for filename in filenames:\n",
    "    if filename.endswith('.xlsx'):\n",
    "        data_filename = filename.split('-')\n",
    "        segment = data_filename[0]\n",
    "        country = data_filename[1].replace('.xlsx', '')\n",
    "        print(country)"
   ]
  },
  {
   "cell_type": "code",
   "execution_count": 10,
   "metadata": {},
   "outputs": [],
   "source": [
    "# Definir as colunas para o DataFrame 'consolidado'\n",
    "columns = [\n",
    "    'Segmento',\n",
    "    'País',\n",
    "    'Produto',\n",
    "    'Qtde de Unidades Vendidas',\n",
    "    'Preço Unitário',\n",
    "    'Valor Total',\n",
    "    'Desconto',\n",
    "    'Valor Total c/ Desconto',\n",
    "    'Custo Total',\n",
    "    'Lucro',\n",
    "    'Data',\n",
    "    'Mês',\n",
    "    'Ano'\n",
    "]\n",
    "\n",
    "# Criar um DataFrame vazio com as colunas especificadas\n",
    "df_consolidated = pd.DataFrame(columns=columns)"
   ]
  },
  {
   "cell_type": "code",
   "execution_count": 11,
   "metadata": {},
   "outputs": [
    {
     "data": {
      "text/html": [
       "<div>\n",
       "<style scoped>\n",
       "    .dataframe tbody tr th:only-of-type {\n",
       "        vertical-align: middle;\n",
       "    }\n",
       "\n",
       "    .dataframe tbody tr th {\n",
       "        vertical-align: top;\n",
       "    }\n",
       "\n",
       "    .dataframe thead th {\n",
       "        text-align: right;\n",
       "    }\n",
       "</style>\n",
       "<table border=\"1\" class=\"dataframe\">\n",
       "  <thead>\n",
       "    <tr style=\"text-align: right;\">\n",
       "      <th></th>\n",
       "      <th>Segmento</th>\n",
       "      <th>País</th>\n",
       "      <th>Produto</th>\n",
       "      <th>Qtde de Unidades Vendidas</th>\n",
       "      <th>Preço Unitário</th>\n",
       "      <th>Valor Total</th>\n",
       "      <th>Desconto</th>\n",
       "      <th>Valor Total c/ Desconto</th>\n",
       "      <th>Custo Total</th>\n",
       "      <th>Lucro</th>\n",
       "      <th>Data</th>\n",
       "      <th>Mês</th>\n",
       "      <th>Ano</th>\n",
       "    </tr>\n",
       "  </thead>\n",
       "  <tbody>\n",
       "  </tbody>\n",
       "</table>\n",
       "</div>"
      ],
      "text/plain": [
       "Empty DataFrame\n",
       "Columns: [Segmento, País, Produto, Qtde de Unidades Vendidas, Preço Unitário, Valor Total, Desconto, Valor Total c/ Desconto, Custo Total, Lucro, Data, Mês, Ano]\n",
       "Index: []"
      ]
     },
     "execution_count": 11,
     "metadata": {},
     "output_type": "execute_result"
    }
   ],
   "source": [
    "# DataFrame\n",
    "df_consolidated"
   ]
  },
  {
   "cell_type": "code",
   "execution_count": 12,
   "metadata": {},
   "outputs": [],
   "source": [
    "# Ignora o aviso\n",
    "import warnings\n",
    "warnings.filterwarnings(\"ignore\", category=FutureWarning)\n",
    "\n",
    "for filename in filenames:\n",
    "    if filename.endswith('.xlsx'):\n",
    "        \n",
    "        data_filename = filename.split('-')\n",
    "        segment = data_filename[0]\n",
    "        country = data_filename[1].replace('.xlsx', '')\n",
    "        \n",
    "        try:\n",
    "            filepath = os.path.join(cwd, 'workbooks', 'input', 'data', filename)\n",
    "            df = pd.read_excel(filepath)\n",
    "            df.insert(0, 'Segmento', segment)\n",
    "            df.insert(1, 'País', country) \n",
    "            #df_consolidated = pd.concat([df_consolidated, df], ignore_index=True, sort=False)\n",
    "            df_consolidated = pd.concat([df_consolidated, df])\n",
    "        except:\n",
    "            with open('logs\\\\log_erros.txt', 'w') as file:\n",
    "                file.write(f'Erro ao tentar consolidar o arquivo {filename}.')\n",
    "    else:\n",
    "        with open('logs\\\\log_erros.txt', 'w') as file:\n",
    "            file.write(f'O arquivo {filename} não é um arquivo Excel válido!')"
   ]
  },
  {
   "cell_type": "code",
   "execution_count": 13,
   "metadata": {},
   "outputs": [
    {
     "name": "stdout",
     "output_type": "stream",
     "text": [
      "Data e hora atual: 2024-03-18 12:36:16.394834\n"
     ]
    }
   ],
   "source": [
    "# Obter a data e hora atuais\n",
    "agora = datetime.datetime.now()\n",
    "print(f'Data e hora atual: {agora}')"
   ]
  },
  {
   "cell_type": "code",
   "execution_count": 14,
   "metadata": {},
   "outputs": [],
   "source": [
    "# Exportar o DataFrame consolidado para um arquivo Excel\n",
    "df_consolidated.to_excel(f'workbooks\\\\output\\\\report-consolidated-{agora.strftime('%d-%m-%Y')}.xlsx', \n",
    "                     index=False,\n",
    "                     sheet_name='ReportConsolidated')"
   ]
  },
  {
   "cell_type": "code",
   "execution_count": 15,
   "metadata": {},
   "outputs": [
    {
     "name": "stdout",
     "output_type": "stream",
     "text": [
      "---------------------------Verifica a(s) 3 primeira(s) linhas superiores----------------------------\n"
     ]
    },
    {
     "data": {
      "text/html": [
       "<div>\n",
       "<style scoped>\n",
       "    .dataframe tbody tr th:only-of-type {\n",
       "        vertical-align: middle;\n",
       "    }\n",
       "\n",
       "    .dataframe tbody tr th {\n",
       "        vertical-align: top;\n",
       "    }\n",
       "\n",
       "    .dataframe thead th {\n",
       "        text-align: right;\n",
       "    }\n",
       "</style>\n",
       "<table border=\"1\" class=\"dataframe\">\n",
       "  <thead>\n",
       "    <tr style=\"text-align: right;\">\n",
       "      <th></th>\n",
       "      <th>Segmento</th>\n",
       "      <th>País</th>\n",
       "      <th>Produto</th>\n",
       "      <th>Qtde de Unidades Vendidas</th>\n",
       "      <th>Preço Unitário</th>\n",
       "      <th>Valor Total</th>\n",
       "      <th>Desconto</th>\n",
       "      <th>Valor Total c/ Desconto</th>\n",
       "      <th>Custo Total</th>\n",
       "      <th>Lucro</th>\n",
       "      <th>Data</th>\n",
       "      <th>Mês</th>\n",
       "      <th>Ano</th>\n",
       "    </tr>\n",
       "  </thead>\n",
       "  <tbody>\n",
       "    <tr>\n",
       "      <th>0</th>\n",
       "      <td>Governo</td>\n",
       "      <td>Alemanha</td>\n",
       "      <td>Produto 1</td>\n",
       "      <td>1321</td>\n",
       "      <td>20</td>\n",
       "      <td>26420</td>\n",
       "      <td>0.0</td>\n",
       "      <td>26420.0</td>\n",
       "      <td>14531.0</td>\n",
       "      <td>11889.0</td>\n",
       "      <td>2019-01-01</td>\n",
       "      <td>Janeiro</td>\n",
       "      <td>2019</td>\n",
       "    </tr>\n",
       "    <tr>\n",
       "      <th>1</th>\n",
       "      <td>Governo</td>\n",
       "      <td>Alemanha</td>\n",
       "      <td>Produto 1</td>\n",
       "      <td>1513</td>\n",
       "      <td>350</td>\n",
       "      <td>529550</td>\n",
       "      <td>0.0</td>\n",
       "      <td>529550.0</td>\n",
       "      <td>432718.0</td>\n",
       "      <td>96832.0</td>\n",
       "      <td>2019-12-01</td>\n",
       "      <td>Dezembro</td>\n",
       "      <td>2019</td>\n",
       "    </tr>\n",
       "    <tr>\n",
       "      <th>2</th>\n",
       "      <td>Governo</td>\n",
       "      <td>Alemanha</td>\n",
       "      <td>Produto 2</td>\n",
       "      <td>2146</td>\n",
       "      <td>7</td>\n",
       "      <td>15022</td>\n",
       "      <td>0.0</td>\n",
       "      <td>15022.0</td>\n",
       "      <td>10730.0</td>\n",
       "      <td>4292.0</td>\n",
       "      <td>2019-09-01</td>\n",
       "      <td>Setembro</td>\n",
       "      <td>2019</td>\n",
       "    </tr>\n",
       "  </tbody>\n",
       "</table>\n",
       "</div>"
      ],
      "text/plain": [
       "  Segmento      País    Produto Qtde de Unidades Vendidas Preço Unitário  \\\n",
       "0  Governo  Alemanha  Produto 1                      1321             20   \n",
       "1  Governo  Alemanha  Produto 1                      1513            350   \n",
       "2  Governo  Alemanha  Produto 2                      2146              7   \n",
       "\n",
       "  Valor Total  Desconto  Valor Total c/ Desconto  Custo Total    Lucro  \\\n",
       "0       26420       0.0                  26420.0      14531.0  11889.0   \n",
       "1      529550       0.0                 529550.0     432718.0  96832.0   \n",
       "2       15022       0.0                  15022.0      10730.0   4292.0   \n",
       "\n",
       "        Data       Mês   Ano  \n",
       "0 2019-01-01   Janeiro  2019  \n",
       "1 2019-12-01  Dezembro  2019  \n",
       "2 2019-09-01  Setembro  2019  "
      ]
     },
     "metadata": {},
     "output_type": "display_data"
    },
    {
     "name": "stdout",
     "output_type": "stream",
     "text": [
      "\n",
      "\n",
      "---------------------------Verifica a(s) 3 primeira(s) linhas inferiores----------------------------\n"
     ]
    },
    {
     "data": {
      "text/html": [
       "<div>\n",
       "<style scoped>\n",
       "    .dataframe tbody tr th:only-of-type {\n",
       "        vertical-align: middle;\n",
       "    }\n",
       "\n",
       "    .dataframe tbody tr th {\n",
       "        vertical-align: top;\n",
       "    }\n",
       "\n",
       "    .dataframe thead th {\n",
       "        text-align: right;\n",
       "    }\n",
       "</style>\n",
       "<table border=\"1\" class=\"dataframe\">\n",
       "  <thead>\n",
       "    <tr style=\"text-align: right;\">\n",
       "      <th></th>\n",
       "      <th>Segmento</th>\n",
       "      <th>País</th>\n",
       "      <th>Produto</th>\n",
       "      <th>Qtde de Unidades Vendidas</th>\n",
       "      <th>Preço Unitário</th>\n",
       "      <th>Valor Total</th>\n",
       "      <th>Desconto</th>\n",
       "      <th>Valor Total c/ Desconto</th>\n",
       "      <th>Custo Total</th>\n",
       "      <th>Lucro</th>\n",
       "      <th>Data</th>\n",
       "      <th>Mês</th>\n",
       "      <th>Ano</th>\n",
       "    </tr>\n",
       "  </thead>\n",
       "  <tbody>\n",
       "    <tr>\n",
       "      <th>17</th>\n",
       "      <td>Vendas online</td>\n",
       "      <td>França</td>\n",
       "      <td>Produto 3</td>\n",
       "      <td>1393.0</td>\n",
       "      <td>12</td>\n",
       "      <td>16716</td>\n",
       "      <td>2340.24</td>\n",
       "      <td>14375.76</td>\n",
       "      <td>4179.0</td>\n",
       "      <td>10196.76</td>\n",
       "      <td>2019-10-01</td>\n",
       "      <td>Outubro</td>\n",
       "      <td>2019</td>\n",
       "    </tr>\n",
       "    <tr>\n",
       "      <th>18</th>\n",
       "      <td>Vendas online</td>\n",
       "      <td>França</td>\n",
       "      <td>Produto 6</td>\n",
       "      <td>1393.0</td>\n",
       "      <td>12</td>\n",
       "      <td>16716</td>\n",
       "      <td>2340.24</td>\n",
       "      <td>14375.76</td>\n",
       "      <td>4179.0</td>\n",
       "      <td>10196.76</td>\n",
       "      <td>2019-10-01</td>\n",
       "      <td>Outubro</td>\n",
       "      <td>2019</td>\n",
       "    </tr>\n",
       "    <tr>\n",
       "      <th>19</th>\n",
       "      <td>Vendas online</td>\n",
       "      <td>França</td>\n",
       "      <td>Produto 6</td>\n",
       "      <td>2475.0</td>\n",
       "      <td>12</td>\n",
       "      <td>29700</td>\n",
       "      <td>4158.00</td>\n",
       "      <td>25542.00</td>\n",
       "      <td>7425.0</td>\n",
       "      <td>18117.00</td>\n",
       "      <td>2019-08-01</td>\n",
       "      <td>Agosto</td>\n",
       "      <td>2019</td>\n",
       "    </tr>\n",
       "  </tbody>\n",
       "</table>\n",
       "</div>"
      ],
      "text/plain": [
       "         Segmento    País    Produto Qtde de Unidades Vendidas Preço Unitário  \\\n",
       "17  Vendas online  França  Produto 3                    1393.0             12   \n",
       "18  Vendas online  França  Produto 6                    1393.0             12   \n",
       "19  Vendas online  França  Produto 6                    2475.0             12   \n",
       "\n",
       "   Valor Total  Desconto  Valor Total c/ Desconto  Custo Total     Lucro  \\\n",
       "17       16716   2340.24                 14375.76       4179.0  10196.76   \n",
       "18       16716   2340.24                 14375.76       4179.0  10196.76   \n",
       "19       29700   4158.00                 25542.00       7425.0  18117.00   \n",
       "\n",
       "         Data      Mês   Ano  \n",
       "17 2019-10-01  Outubro  2019  \n",
       "18 2019-10-01  Outubro  2019  \n",
       "19 2019-08-01   Agosto  2019  "
      ]
     },
     "metadata": {},
     "output_type": "display_data"
    },
    {
     "name": "stdout",
     "output_type": "stream",
     "text": [
      "\n",
      "\n",
      "----------------------------------Verifica o resumo das variáveis-----------------------------------\n",
      "<class 'pandas.core.frame.DataFrame'>\n",
      "Index: 700 entries, 0 to 19\n",
      "Data columns (total 13 columns):\n",
      " #   Column                     Non-Null Count  Dtype         \n",
      "---  ------                     --------------  -----         \n",
      " 0   Segmento                   700 non-null    object        \n",
      " 1   País                       700 non-null    object        \n",
      " 2   Produto                    700 non-null    object        \n",
      " 3   Qtde de Unidades Vendidas  700 non-null    object        \n",
      " 4   Preço Unitário             700 non-null    object        \n",
      " 5   Valor Total                700 non-null    object        \n",
      " 6   Desconto                   700 non-null    float64       \n",
      " 7   Valor Total c/ Desconto    700 non-null    float64       \n",
      " 8   Custo Total                700 non-null    float64       \n",
      " 9   Lucro                      700 non-null    float64       \n",
      " 10  Data                       700 non-null    datetime64[ns]\n",
      " 11  Mês                        700 non-null    object        \n",
      " 12  Ano                        700 non-null    object        \n",
      "dtypes: datetime64[ns](1), float64(4), object(8)\n",
      "memory usage: 76.6+ KB\n"
     ]
    },
    {
     "data": {
      "text/plain": [
       "None"
      ]
     },
     "metadata": {},
     "output_type": "display_data"
    },
    {
     "name": "stdout",
     "output_type": "stream",
     "text": [
      "\n",
      "\n",
      "------------------------Verifica a dimensionalidade e o tamanho do dataframe------------------------\n",
      "Dimensionalidade: 700 x 13\n",
      "Tamanho: 9100 células\n",
      "\n",
      "\n"
     ]
    }
   ],
   "source": [
    "from typing import Optional, Union, List, Tuple, Dict\n",
    "\n",
    "def identify_df(df: pd.DataFrame, n: Optional[int] = 3) -> None:\n",
    "\n",
    "    print(f'Verifica a(s) {n} primeira(s) linhas superiores'.center(100, '-'))\n",
    "    display(df.head(n))  \n",
    "    print('\\n')\n",
    "\n",
    "    print(f'Verifica a(s) {n} primeira(s) linhas inferiores'.center(100, '-'))\n",
    "    display(df.tail(n))\n",
    "    print('\\n')\n",
    "\n",
    "    print('Verifica o resumo das variáveis'.center(100, '-'))\n",
    "    display(df.info())\n",
    "    print('\\n')\n",
    "\n",
    "    print('Verifica a dimensionalidade e o tamanho do dataframe'.center(100, '-'))\n",
    "    nrow, ncol = df.shape \n",
    "    total_cel = df.size \n",
    "    print(f'Dimensionalidade: {nrow} x {ncol}')\n",
    "    print(f'Tamanho: {total_cel} células')\n",
    "    print('\\n')\n",
    "\n",
    "identify_df(df_consolidated, n=3)"
   ]
  }
 ],
 "metadata": {
  "interpreter": {
   "hash": "6467cde764c137f84d8db938254cde60243c46e0fe8734c86fbe71b9c1c73122"
  },
  "kernelspec": {
   "display_name": "Python 3.9.7 ('base')",
   "language": "python",
   "name": "python3"
  },
  "language_info": {
   "codemirror_mode": {
    "name": "ipython",
    "version": 3
   },
   "file_extension": ".py",
   "mimetype": "text/x-python",
   "name": "python",
   "nbconvert_exporter": "python",
   "pygments_lexer": "ipython3",
   "version": "3.12.2"
  },
  "orig_nbformat": 4
 },
 "nbformat": 4,
 "nbformat_minor": 2
}
